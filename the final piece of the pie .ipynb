{
    "cells": [
        {
            "cell_type": "markdown",
            "metadata": {},
            "source": "<h1> Applied Data Science Capstone</h1>\n\n<h1>Capstone Project - The Battle of Neighborhoods</h1>\n\n<h2>1. Obtain the data </h2>\n<h3>1.1 Data used to define the neighborhoods from Wikipedia </h3>"
        },
        {
            "cell_type": "markdown",
            "metadata": {},
            "source": "<h3> Preparation:</h3>\n<h4>Do the software installs for Part 1 - only once per launch of notebook</h4>"
        },
        {
            "cell_type": "code",
            "execution_count": null,
            "metadata": {},
            "outputs": [],
            "source": "!conda install -c conda-forge beautifulsoup4 --yes\nprint(\"INSTALLED BEAUTIFULSOUP4\")\n!conda install -c conda-forge lxml --yes\nprint(\"INSTALLED LXML\")\n!conda install -c conda-forge requests --yes\nprint(\"INSTALLED REQUESTS\")"
        },
        {
            "cell_type": "markdown",
            "metadata": {},
            "source": "<h3>Do all the imports - with launch or when you have to restart the python kernel</h3>"
        },
        {
            "cell_type": "code",
            "execution_count": null,
            "metadata": {},
            "outputs": [],
            "source": "from bs4 import BeautifulSoup\nimport requests\n\nfrom lxml import html\n\nimport pandas as pd \npd.set_option('display.max_columns', None)\npd.set_option('display.max_rows', None)\n\nprint('IMPORTS DONE')\n"
        },
        {
            "cell_type": "markdown",
            "metadata": {},
            "source": "<h3>Import the Canadian Post codes table from the Wikipedia webpage utilising BeautifulSoup</h3>"
        },
        {
            "cell_type": "code",
            "execution_count": null,
            "metadata": {
                "scrolled": true
            },
            "outputs": [],
            "source": "\nwith open('C:\\DATA\\AI\\cournsera\\List of postal codes of Canada Wikipedia.html',encoding=\"utf-8\") as f:\n    source = f.read()\n\n\nprint(\"SOURCE\")\n\nsoup = BeautifulSoup(source,'lxml')\n\nprint(\"SOUP\")\n#print(soup)\n          \npost_codes = soup.find('table',class_=\"wikitable sortable jquery-tablesorter\")\n\nprint(\"POST_CODES\")\nprint(post_codes)\n\nprint('FOUND THE POST CODE TABLE ON WIKIPEDIA')"
        },
        {
            "cell_type": "markdown",
            "metadata": {},
            "source": "<h4>Use BeautifulSoup find_all to extract the rows from the Canadian Postal code table</h4>"
        },
        {
            "cell_type": "code",
            "execution_count": null,
            "metadata": {},
            "outputs": [],
            "source": "table_rows = post_codes.find_all('tr')"
        },
        {
            "cell_type": "markdown",
            "metadata": {},
            "source": "<h3>Prepare the empty Pandas Dataframe</h3>"
        },
        {
            "cell_type": "code",
            "execution_count": null,
            "metadata": {},
            "outputs": [],
            "source": "# define the dataframe columns\ncolumn_names = ['PostalCode','Borough', 'Neighborhood'] \n\n# instantiate the dataframe\npd_post_codes = pd.DataFrame(columns=column_names)\n\nprint(pd_post_codes.columns)\npd_post_codes\n"
        },
        {
            "cell_type": "markdown",
            "metadata": {},
            "source": "<h3>Populate the Pandas Dataframe</h3>"
        },
        {
            "cell_type": "markdown",
            "metadata": {},
            "source": "#### Loop through the table rows and add it to the pd_post_codes dataframe\n"
        },
        {
            "cell_type": "code",
            "execution_count": null,
            "metadata": {},
            "outputs": [],
            "source": "for tr in table_rows:\n    td = tr.find_all('td')\n    row = [tr.text for tr in td] # contains a list\n    if len(row)> 0:\n        #Only non-empty rows will be added\n        row_postalcode = row[0]\n        if row[1] !=  'Not assigned': \n            # borough that is assigned\n            row_borough = row[1]\n            row_neighborhood = row[2] \n            #  - w.r.t. the \"\\n\" - I am using it to put commmas in between the Neighborhoods. \n            if row_neighborhood == 'Not assigned\\n':\n                row_neighborhood = row_borough\n            pd_post_codes = pd_post_codes.append({'PostalCode':row_postalcode,'Borough':row_borough, 'Neighborhood':row_neighborhood},ignore_index=True)\n\nprint('The rows should now be in pd_post_codes - albeit with possibly more than one row per post code') \n\n"
        },
        {
            "cell_type": "markdown",
            "metadata": {},
            "source": "<h3>Replace the \"\\n\" in the Neighborhood column with a comma so that there will be a comma between the neighbourhoods once concatenated."
        },
        {
            "cell_type": "code",
            "execution_count": null,
            "metadata": {},
            "outputs": [],
            "source": "pd_post_codes['Neighborhood'] = pd_post_codes['Neighborhood'].str.replace('\\n',',') "
        },
        {
            "cell_type": "markdown",
            "metadata": {},
            "source": "<h3>Combine neighborhoods with the same borough"
        },
        {
            "cell_type": "code",
            "execution_count": null,
            "metadata": {},
            "outputs": [],
            "source": "pd_post_codes = pd_post_codes.groupby(['PostalCode','Borough'],as_index=False)['Neighborhood'].sum()"
        },
        {
            "cell_type": "markdown",
            "metadata": {},
            "source": "<h4> Remove the last character - which is the comma of the rightmost neighborhood in the list</h4>"
        },
        {
            "cell_type": "code",
            "execution_count": null,
            "metadata": {},
            "outputs": [],
            "source": "pd_post_codes['Neighborhood']= pd_post_codes['Neighborhood'].str[:-1]"
        },
        {
            "cell_type": "code",
            "execution_count": null,
            "metadata": {},
            "outputs": [],
            "source": "pd_post_codes.shape"
        },
        {
            "cell_type": "markdown",
            "metadata": {},
            "source": "<h3> Read in the csv file that has the geographical coordinates of each postal code: http://cocl.us/Geospatial_data</h3>\n    "
        },
        {
            "cell_type": "code",
            "execution_count": null,
            "metadata": {},
            "outputs": [],
            "source": "Postal_codes_coordinates='http://cocl.us/Geospatial_data'\n    \npd_Postal_codes_coordinates = pd.read_csv(Postal_codes_coordinates)"
        },
        {
            "cell_type": "markdown",
            "metadata": {},
            "source": "<h3> Rename the 'Postal Codes'- column in order for the Merge to work. (I have tried it without renaming.)"
        },
        {
            "cell_type": "code",
            "execution_count": null,
            "metadata": {},
            "outputs": [],
            "source": "pd_Postal_codes_coordinates.rename(columns={'Postal Code':'PostalCode'},inplace=True)\n"
        },
        {
            "cell_type": "markdown",
            "metadata": {},
            "source": "<h3>Merge the two dataframes using the PostalCode column to join.</h3>"
        },
        {
            "cell_type": "code",
            "execution_count": null,
            "metadata": {},
            "outputs": [],
            "source": "\npd_Postal_codes_part2 =pd.merge(pd_post_codes,pd_Postal_codes_coordinates[['PostalCode','Latitude','Longitude']],\nleft_on='PostalCode',\nright_on='PostalCode',\nhow='outer')\n\npd_Postal_codes_part2.shape"
        },
        {
            "cell_type": "markdown",
            "metadata": {},
            "source": "<h3>1.2. VENUE data from FOURSQUARE.com</h3>"
        },
        {
            "cell_type": "markdown",
            "metadata": {},
            "source": "<h3>Preparation</h3>"
        },
        {
            "cell_type": "markdown",
            "metadata": {},
            "source": "<h3>Do the installs</h3>\n"
        },
        {
            "cell_type": "code",
            "execution_count": null,
            "metadata": {},
            "outputs": [],
            "source": "!conda install -c conda-forge geopy --yes \nprint('INSTALLED GEOPY')\n!conda install -c conda-forge folium=0.5.0 --yes \nprint('INSTALLED FOLIUM')\nprint('INSTALLATION DONE.')\n"
        },
        {
            "cell_type": "markdown",
            "metadata": {},
            "source": "<h3> Do the imports</h3>"
        },
        {
            "cell_type": "code",
            "execution_count": null,
            "metadata": {
                "jupyter": {
                    "outputs_hidden": false
                }
            },
            "outputs": [],
            "source": "import numpy as np # library to handle data in a vectorized manner\n\nimport pandas as pd # library for data analsysis\npd.set_option('display.max_columns', None)\npd.set_option('display.max_rows', None)\n\nfrom pandas.io.json import json_normalize\n\nfrom geopy.geocoders import Nominatim # convert an address into latitude and longitude values\n\nimport requests # library to handle requests\n\n# Matplotlib and associated plotting modules\nimport matplotlib.cm as cm\nimport matplotlib.colors as colors\n\n# import k-means from clustering stage\nfrom sklearn.cluster import KMeans\n\nimport json # library to handle JSON files\n\n\nimport folium # map rendering library\n\nprint('LIBRARIES IMPORTED.')"
        },
        {
            "cell_type": "markdown",
            "metadata": {},
            "source": "A Pandas DataFrame has been created for Toronto that is similar to the one for New York in Part2."
        },
        {
            "cell_type": "code",
            "execution_count": null,
            "metadata": {},
            "outputs": [],
            "source": "pd_Postal_codes_part2.head()"
        },
        {
            "cell_type": "markdown",
            "metadata": {},
            "source": "But we only want to work with Toronto."
        },
        {
            "cell_type": "code",
            "execution_count": null,
            "metadata": {},
            "outputs": [],
            "source": "pd_Postal_codes_Toronto=pd_Postal_codes_part2[pd_Postal_codes_part2['Borough'].str.contains('Toronto')]\n"
        },
        {
            "cell_type": "code",
            "execution_count": null,
            "metadata": {
                "jupyter": {
                    "outputs_hidden": false
                },
                "scrolled": true
            },
            "outputs": [],
            "source": "print('Now we are only working with {} boroughs in Toronto.'.format(pd_Postal_codes_Toronto.shape[0]))\nprint('Here are the first 5 rows')\npd_Postal_codes_Toronto.head()\n"
        },
        {
            "cell_type": "markdown",
            "metadata": {},
            "source": "#### Use geopy library to get the latitude and longitude values of Toronto."
        },
        {
            "cell_type": "markdown",
            "metadata": {},
            "source": "In order to define an instance of the geocoder, we need to define a user_agent. We will name our agent <em>ny_explorer</em>, as shown below."
        },
        {
            "cell_type": "code",
            "execution_count": null,
            "metadata": {
                "jupyter": {
                    "outputs_hidden": false
                },
                "scrolled": true
            },
            "outputs": [],
            "source": "address = 'Toronto, Canada'\n\ngeolocator = Nominatim(user_agent=\"ny_explorer\")\nlocation = geolocator.geocode(address)\nlatitude = location.latitude\nlongitude = location.longitude\nprint('The geograpical coordinate of Toronto are {}, {}.'.format(latitude, longitude))"
        },
        {
            "cell_type": "markdown",
            "metadata": {},
            "source": "#### Create a map of Toronto with neighborhoods superimposed on top."
        },
        {
            "cell_type": "code",
            "execution_count": null,
            "metadata": {
                "jupyter": {
                    "outputs_hidden": false
                }
            },
            "outputs": [],
            "source": "# create map of Toronto using latitude and longitude values\nmap_Toronto = folium.Map(location=[latitude, longitude], zoom_start=11)\n\n# add markers to map\nfor lat, lng, borough, neighborhood in zip(pd_Postal_codes_Toronto['Latitude'], pd_Postal_codes_Toronto['Longitude'], pd_Postal_codes_Toronto['Borough'], pd_Postal_codes_Toronto['Neighborhood']):\n    label = '{}, {}'.format(neighborhood, borough)\n    label = folium.Popup(label, parse_html=True)\n    folium.CircleMarker(\n        [lat, lng],\n        radius=3,\n        popup=label,\n        color='blue',\n        fill=True,\n        fill_color='#3186cc',\n        fill_opacity=0.7,\n        parse_html=False).add_to(map_Toronto)  \n\n\nmap_Toronto"
        },
        {
            "cell_type": "markdown",
            "metadata": {},
            "source": "Please feel free to zoom in where the action is using the \"+\" in the tot left corner."
        },
        {
            "cell_type": "markdown",
            "metadata": {},
            "source": "Next, we are going to start utilizing the Foursquare API to explore the neighborhoods and segment them."
        },
        {
            "cell_type": "markdown",
            "metadata": {},
            "source": "#### Define Foursquare Credentials and Version - Hidden"
        },
        {
            "cell_type": "code",
            "execution_count": null,
            "metadata": {
                "jupyter": {
                    "outputs_hidden": false
                }
            },
            "outputs": [],
            "source": "# The code was removed by Watson Studio for sharing."
        },
        {
            "cell_type": "markdown",
            "metadata": {},
            "source": "### Obtain the Venue data from FOURSQUARE.com"
        },
        {
            "cell_type": "markdown",
            "metadata": {},
            "source": "#### Getting all the venues, using the latitude and Longitude of the post code as that of the Neighborhood"
        },
        {
            "cell_type": "code",
            "execution_count": null,
            "metadata": {},
            "outputs": [],
            "source": "def getNearbyVenues(names, latitudes, longitudes, radius=500,LIMIT=100):\n    \n    # instantiate the dataframe\n    \n    column_names = ['Neighborhood', 'Neighborhood Latitude', 'Neighborhood Longitude', \n                 'Venue', 'Venue Latitude', 'Venue Longitude', 'Venue Category']\n    nearby_venues = pd.DataFrame(columns=column_names)\n    \n    # for each Post Code, add all the venues to nearby_venues\n    for name, lat, lng in zip(names, latitudes, longitudes):\n        print(name)\n            \n        # create the API request URL\n        url = 'https://api.foursquare.com/v2/venues/explore?&client_id={}&client_secret={}&v={}&ll={},{}&radius={}&limit={}'.format(\n            CLIENT_ID, \n            CLIENT_SECRET, \n            VERSION, \n            lat, \n            lng, \n            radius, \n            LIMIT)\n            \n        #make the GET request\n        results = requests.get(url).json()[\"response\"]['groups'][0]['items']\n        \n        # Get to the relevant part in the JSON-data returned from FOURSQUARE.com\n        venues = results\n                \n        N = len(venues)\n        for i in range(N):\n            icon_prefix = venues[i]['venue']['categories'][0]['icon']['prefix']\n            row_category_group=icon_prefix.split('/')[5]\n            if row_category_group == 'food':\n                row_category_name = venues[i]['venue']['categories'][0]['name']\n                row_establishment = venues[i]['venue']['name']\n                row_establishment_latitude = venues[i]['venue']['location']['lat']\n                row_establishment_longitude = venues[0]['venue']['location']['lng']\n                nearby_venues = nearby_venues.append({'Neighborhood':name, 'Neighborhood Latitude':lat,\n                                              'Neighborhood Longitude':lng,\n                                              'Venue':row_establishment, \n                                              'Venue Latitude':row_establishment_latitude, \n                                              'Venue Longitude':row_establishment_longitude,\n                                              'Venue Category':row_category_name},ignore_index=True)\n    \n    return(nearby_venues)"
        },
        {
            "cell_type": "markdown",
            "metadata": {},
            "source": "#### Execution of the above function on each neighborhood and create a new dataframe called *Toronto_venues*."
        },
        {
            "cell_type": "code",
            "execution_count": null,
            "metadata": {
                "jupyter": {
                    "outputs_hidden": false
                }
            },
            "outputs": [],
            "source": "\ntoronto_venues = getNearbyVenues(names=pd_Postal_codes_Toronto['Neighborhood'],\n                                   latitudes=pd_Postal_codes_Toronto['Latitude'],\n                                   longitudes=pd_Postal_codes_Toronto['Longitude']\n                                  )\n\n"
        },
        {
            "cell_type": "markdown",
            "metadata": {},
            "source": "Let's check how many venues were returned for each neighborhood"
        },
        {
            "cell_type": "code",
            "execution_count": null,
            "metadata": {
                "jupyter": {
                    "outputs_hidden": false
                },
                "scrolled": true
            },
            "outputs": [],
            "source": "toronto_venues.groupby('Neighborhood').count()"
        },
        {
            "cell_type": "markdown",
            "metadata": {},
            "source": "### Unique categories of food places  and it counts"
        },
        {
            "cell_type": "code",
            "execution_count": null,
            "metadata": {
                "scrolled": true
            },
            "outputs": [],
            "source": "tv_columns = toronto_venues.groupby(['Venue Category'])['Venue'].count()\ntv_columns"
        },
        {
            "cell_type": "markdown",
            "metadata": {},
            "source": "<h3>Neighborhoods with count of respective food categories</h3>"
        },
        {
            "cell_type": "code",
            "execution_count": null,
            "metadata": {},
            "outputs": [],
            "source": "toronto_venues.groupby(['Neighborhood','Venue Category']).count()"
        },
        {
            "cell_type": "code",
            "execution_count": null,
            "metadata": {
                "jupyter": {
                    "outputs_hidden": false
                }
            },
            "outputs": [],
            "source": "print('There are {} uniques categories.'.format(len(toronto_venues['Venue Category'].unique())))"
        },
        {
            "cell_type": "code",
            "execution_count": null,
            "metadata": {},
            "outputs": [],
            "source": ""
        },
        {
            "cell_type": "markdown",
            "metadata": {},
            "source": "<a id='item3'></a>"
        },
        {
            "cell_type": "markdown",
            "metadata": {},
            "source": "## 2. Analyze Each Neighborhood"
        },
        {
            "cell_type": "code",
            "execution_count": null,
            "metadata": {
                "jupyter": {
                    "outputs_hidden": false
                },
                "scrolled": true
            },
            "outputs": [],
            "source": "# one hot encoding\ntoronto_onehot = pd.get_dummies(toronto_venues[['Venue Category']], prefix=\"\", prefix_sep=\"\")\n\n# add neighborhood column back to dataframe\ntoronto_onehot['Neighborhood'] = toronto_venues['Neighborhood'] \n\n# move neighborhood column to the first column\nfixed_columns = [toronto_onehot.columns[-1]] + list(toronto_onehot.columns[:-1])\n\ntoronto_onehot = toronto_onehot[fixed_columns]\n\ntoronto_onehot.head()"
        },
        {
            "cell_type": "markdown",
            "metadata": {},
            "source": "And let's examine the new dataframe size."
        },
        {
            "cell_type": "code",
            "execution_count": null,
            "metadata": {
                "jupyter": {
                    "outputs_hidden": false
                }
            },
            "outputs": [],
            "source": "toronto_onehot.shape"
        },
        {
            "cell_type": "markdown",
            "metadata": {},
            "source": "#### Next, let's group rows by neighborhood and by taking the mean of the frequency of occurrence of each category"
        },
        {
            "cell_type": "code",
            "execution_count": null,
            "metadata": {
                "jupyter": {
                    "outputs_hidden": false
                },
                "scrolled": true
            },
            "outputs": [],
            "source": "toronto_grouped = toronto_onehot.groupby('Neighborhood').mean().reset_index()\ntoronto_grouped"
        },
        {
            "cell_type": "markdown",
            "metadata": {},
            "source": "#### Let's confirm the new size"
        },
        {
            "cell_type": "code",
            "execution_count": null,
            "metadata": {
                "jupyter": {
                    "outputs_hidden": false
                }
            },
            "outputs": [],
            "source": "toronto_grouped.shape"
        },
        {
            "cell_type": "markdown",
            "metadata": {},
            "source": "#### Let's print each neighborhood along with the top 5 most common venues"
        },
        {
            "cell_type": "code",
            "execution_count": null,
            "metadata": {
                "jupyter": {
                    "outputs_hidden": false
                }
            },
            "outputs": [],
            "source": "num_top_venues = 5\n\nfor hood in toronto_grouped['Neighborhood']:\n    print(\"----\"+hood+\"----\")\n    temp = toronto_grouped[toronto_grouped['Neighborhood'] == hood].T.reset_index()\n    #print(temp)\n    temp.columns = ['venue','freq']\n    temp = temp.iloc[1:]\n    temp['freq'] = temp['freq'].astype(float)\n    temp = temp.round({'freq': 2})\n    print(temp.sort_values('freq', ascending=False).reset_index(drop=True).head(num_top_venues))\n    print('\\n')"
        },
        {
            "cell_type": "markdown",
            "metadata": {},
            "source": "#### Let's put that into a *pandas* dataframe"
        },
        {
            "cell_type": "markdown",
            "metadata": {},
            "source": "First, let's write a function to sort the venues in descending order."
        },
        {
            "cell_type": "code",
            "execution_count": null,
            "metadata": {},
            "outputs": [],
            "source": "def return_most_common_venues(row, num_top_venues):\n    row_categories = row.iloc[1:]\n    row_categories_sorted = row_categories.sort_values(ascending=False)\n    \n    return row_categories_sorted.index.values[0:num_top_venues]"
        },
        {
            "cell_type": "markdown",
            "metadata": {},
            "source": "Now let's create the new dataframe and display the top 10 venues for each neighborhood."
        },
        {
            "cell_type": "code",
            "execution_count": null,
            "metadata": {
                "jupyter": {
                    "outputs_hidden": false
                }
            },
            "outputs": [],
            "source": "num_top_venues = 10\n\nindicators = ['st', 'nd', 'rd']\n\n\n# create columns according to number of top venues\ncolumns = ['Neighborhood']\n\n\nfor ind in np.arange(num_top_venues):\n    try:\n        columns.append('{}{} Most Common Venue'.format(ind+1, indicators[ind]))\n    except:\n        columns.append('{}th Most Common Venue'.format(ind+1))\n\n# create a new dataframe\nneighborhoods_venues_sorted9 = pd.DataFrame(columns=columns)\nneighborhoods_venues_sorted9['Neighborhood'] = toronto_grouped['Neighborhood']\n\nfor ind in np.arange(toronto_grouped.shape[0]):\n    neighborhoods_venues_sorted9.iloc[ind, 1:] = return_most_common_venues(toronto_grouped.iloc[ind, :], num_top_venues)\n\nneighborhoods_venues_sorted9.head()"
        },
        {
            "cell_type": "markdown",
            "metadata": {},
            "source": "<a id='item4'></a>"
        },
        {
            "cell_type": "markdown",
            "metadata": {},
            "source": "##  3. Cluster the Neighborhoods"
        },
        {
            "cell_type": "markdown",
            "metadata": {},
            "source": "Run *k*-means to cluster the neighborhood into 9 clusters."
        },
        {
            "cell_type": "code",
            "execution_count": null,
            "metadata": {
                "jupyter": {
                    "outputs_hidden": false
                }
            },
            "outputs": [],
            "source": "# set number of clusters\nkclusters = 9\n\ntoronto_grouped_clustering = toronto_grouped.drop('Neighborhood', 1)\n\n# run k-means clustering\nkmeans = KMeans(n_clusters=kclusters, random_state=0).fit(toronto_grouped_clustering)\n\n# check cluster labels generated for each row in the dataframe\nkmeans.labels_[0:10] "
        },
        {
            "cell_type": "markdown",
            "metadata": {},
            "source": "Let's create a new dataframe that includes the cluster as well as the top 10 venues for each neighborhood."
        },
        {
            "cell_type": "code",
            "execution_count": null,
            "metadata": {
                "jupyter": {
                    "outputs_hidden": false
                },
                "scrolled": true
            },
            "outputs": [],
            "source": "# add clustering labels\n\nneighborhoods_venues_sorted9.insert(0, 'Cluster Labels', kmeans.labels_)\n\ntoronto_merged = pd_Postal_codes_Toronto\n\n# merge toronto_grouped with toronto_data to add latitude/longitude for each neighborhood\ntoronto_merged = toronto_merged.join(neighborhoods_venues_sorted9.set_index('Neighborhood'), on='Neighborhood')\n\ntoronto_merged9 = toronto_merged.dropna()\n\n#toronto_merged9=toronto_merged9.astype({'Cluster Labels':int})\n\ntoronto_merged9 #.head() # check the last columns!\n\n"
        },
        {
            "cell_type": "markdown",
            "metadata": {},
            "source": "Change the type of the \"Cluster Labels\"-column from Float to INT"
        },
        {
            "cell_type": "code",
            "execution_count": null,
            "metadata": {},
            "outputs": [],
            "source": "toronto_merged9=toronto_merged9.astype({'Cluster Labels':int})\n"
        },
        {
            "cell_type": "code",
            "execution_count": null,
            "metadata": {},
            "outputs": [],
            "source": "toronto_merged9.head()"
        },
        {
            "cell_type": "markdown",
            "metadata": {},
            "source": "Finally, let's visualize the resulting clusters"
        },
        {
            "cell_type": "code",
            "execution_count": null,
            "metadata": {
                "jupyter": {
                    "outputs_hidden": false
                }
            },
            "outputs": [],
            "source": "# create map\nmap_clusters = folium.Map(location=[latitude, longitude], zoom_start=11)\n\n# set color scheme for the clusters\nx = np.arange(kclusters)\nys = [i + x + (i*x)**2 for i in range(kclusters)]\ncolors_array = cm.rainbow(np.linspace(0, 1, len(ys)))\nrainbow = [colors.rgb2hex(i) for i in colors_array]\n\n\n# add markers to the map\nmarkers_colors = []\nfor lat, lon, poi, cluster in zip(toronto_merged9['Latitude'], toronto_merged9['Longitude'], toronto_merged9['Neighborhood'], toronto_merged9['Cluster Labels']):\n    label = folium.Popup(str(poi) + ' Cluster ' + str(cluster), parse_html=True)\n    folium.CircleMarker(\n        [lat, lon],\n        radius=5,\n        popup=label,\n        color=rainbow[cluster-1],\n        fill=True,\n        fill_color=rainbow[cluster-1],\n        fill_opacity=0.7).add_to(map_clusters)\n       \nmap_clusters"
        },
        {
            "cell_type": "markdown",
            "metadata": {},
            "source": "<a id='item5'></a>"
        },
        {
            "cell_type": "markdown",
            "metadata": {},
            "source": "## 4. Examine the Clusters"
        },
        {
            "cell_type": "markdown",
            "metadata": {},
            "source": "Now, you can examine each cluster and determine the discriminating venue categories that distinguish each cluster. Based on the defining categories, you can then assign a name to each cluster. I will leave this exercise to you."
        },
        {
            "cell_type": "markdown",
            "metadata": {},
            "source": "I first had 5 clusters, but most of the Neighborhoods were in 1 cluster which now constitutes Cluster 8 . So I have increased it to 9 to see if I can get some more variety."
        },
        {
            "cell_type": "markdown",
            "metadata": {},
            "source": "#### Cluster 1 - CN Tower, Bathurst Quay, Island Ariport, harbour"
        },
        {
            "cell_type": "markdown",
            "metadata": {},
            "source": "(Reddish in the south) Airport, harbour."
        },
        {
            "cell_type": "code",
            "execution_count": null,
            "metadata": {
                "jupyter": {
                    "outputs_hidden": false
                }
            },
            "outputs": [],
            "source": "toronto_merged9.loc[toronto_merged9['Cluster Labels'] == 0, toronto_merged9.columns[[2] + list(range(5, toronto_merged9.shape[1]))]]"
        },
        {
            "cell_type": "markdown",
            "metadata": {},
            "source": "#### Cluster 2 - Coffee shops. mostly City centre, North-South\n"
        },
        {
            "cell_type": "markdown",
            "metadata": {},
            "source": "(Purple color North and south - mostly city centre 18 Neighborhoods\n"
        },
        {
            "cell_type": "code",
            "execution_count": null,
            "metadata": {
                "jupyter": {
                    "outputs_hidden": false
                }
            },
            "outputs": [],
            "source": "toronto_merged9.loc[toronto_merged9['Cluster Labels'] == 1, toronto_merged9.columns[[2] + list(range(5, toronto_merged9.shape[1]))]]"
        },
        {
            "cell_type": "markdown",
            "metadata": {},
            "source": "#### Cluster 3 - Davisville North|"
        },
        {
            "cell_type": "markdown",
            "metadata": {},
            "source": "(Medium blue, North on the map)\n\nNorthemd Suburb \"standard suburb\" with a Dumpling restaurant and a donut shop. "
        },
        {
            "cell_type": "code",
            "execution_count": null,
            "metadata": {
                "jupyter": {
                    "outputs_hidden": false
                }
            },
            "outputs": [],
            "source": "toronto_merged9.loc[toronto_merged9['Cluster Labels'] == 2, toronto_merged9.columns[[2] + list(range(5, toronto_merged9.shape[1]))]]"
        },
        {
            "cell_type": "markdown",
            "metadata": {},
            "source": "#### Cluster 4 - Forest Hill North, Forest Hill West"
        },
        {
            "cell_type": "markdown",
            "metadata": {},
            "source": "(Light blue, in the middle of the map.) \n\nNorthern Suburb - with Dumpling Restaurant and Donut Shop"
        },
        {
            "cell_type": "code",
            "execution_count": null,
            "metadata": {
                "jupyter": {
                    "outputs_hidden": false
                }
            },
            "outputs": [],
            "source": "toronto_merged9.loc[toronto_merged9['Cluster Labels'] == 3, toronto_merged9.columns[[2] + list(range(5, toronto_merged9.shape[1]))]]"
        },
        {
            "cell_type": "markdown",
            "metadata": {},
            "source": "#### Cluster 5 -  East-West\n"
        },
        {
            "cell_type": "markdown",
            "metadata": {},
            "source": "(Turcoise, from East to West, 8 Neighborhoods ) A mix of everything\n"
        },
        {
            "cell_type": "code",
            "execution_count": null,
            "metadata": {
                "jupyter": {
                    "outputs_hidden": false
                }
            },
            "outputs": [],
            "source": "toronto_merged9.loc[toronto_merged9['Cluster Labels'] == 4, toronto_merged9.columns[[2] + list(range(5, toronto_merged9.shape[1]))]]"
        },
        {
            "cell_type": "markdown",
            "metadata": {},
            "source": "#### Cluster 6 - Dowercourt Village, Dufferin The baker and the Brewer\n"
        },
        {
            "cell_type": "markdown",
            "metadata": {},
            "source": "\n(Light Turqouise, North West of the city) \n"
        },
        {
            "cell_type": "code",
            "execution_count": null,
            "metadata": {},
            "outputs": [],
            "source": "toronto_merged9.loc[toronto_merged9['Cluster Labels'] == 5, toronto_merged9.columns[[2] + list(range(5, toronto_merged9.shape[1]))]]"
        },
        {
            "cell_type": "markdown",
            "metadata": {},
            "source": "#### Cluster 7 - Business Reply Centre\n"
        },
        {
            "cell_type": "markdown",
            "metadata": {},
            "source": ""
        },
        {
            "cell_type": "code",
            "execution_count": null,
            "metadata": {},
            "outputs": [],
            "source": "toronto_merged9.loc[toronto_merged9['Cluster Labels'] == 6, toronto_merged9.columns[[2] + list(range(5, toronto_merged9.shape[1]))]]"
        },
        {
            "cell_type": "markdown",
            "metadata": {},
            "source": "#### Cluster 8 - High Park, The Junction South"
        },
        {
            "cell_type": "markdown",
            "metadata": {},
            "source": "(Faded Orange - to the West of the city) - 4 \"proper\" restaurants\n"
        },
        {
            "cell_type": "code",
            "execution_count": null,
            "metadata": {
                "scrolled": true
            },
            "outputs": [],
            "source": "toronto_merged9.loc[toronto_merged9['Cluster Labels'] == 7, toronto_merged9.columns[[2] + list(range(5, toronto_merged9.shape[1]))]]"
        },
        {
            "cell_type": "markdown",
            "metadata": {},
            "source": "#### Cluster 9 - Cafe club\nYoung Family"
        },
        {
            "cell_type": "markdown",
            "metadata": {},
            "source": "\nBurnt orange - 3 Neighborhhooods )\nInbetween the City Centre Neighborhoods is Christie. It does not look at all like the others with a grocery store in first position, a Candy store in 4th and a baby store in 6th. Add a nightclub to the mix. Young Family?"
        },
        {
            "cell_type": "code",
            "execution_count": null,
            "metadata": {},
            "outputs": [],
            "source": "toronto_merged9.loc[toronto_merged9['Cluster Labels'] == 8, toronto_merged9.columns[[2] + list(range(5, toronto_merged9.shape[1]))]]"
        },
        {
            "cell_type": "markdown",
            "metadata": {},
            "source": "## 5. Analysis"
        },
        {
            "cell_type": "markdown",
            "metadata": {},
            "source": "\nTwo things stand out;\n    \u2022 The north to south grouping of purple-coloured neighborhoods with 18 establisments (cluster 2)\n    \u2022 The \u201cwave\u201d of turquise-coloured neighborhoods running east to west with 8 establishments.(Cluster 5) with a good mixture of food establishments\n\nThe next cluster is the Cafe-club, with 3 establishments (Cluster 8) Probably because it is around the University.\n\nThen there are 2 clusters with all-together 3 Neighborhoods \u2013 Clusters 3 and 4. that contains Dumpling Restaurants, Donner and Donut Shop\n\nCluster 8  ( High Park, The Junction South, west of the city) have 4 \"proper\" restaurants \u2013 Mexican, Thai, Cajun/Creole and Italian. \n\nCluster 6 (Dowercourt Village, Dufferin) has a bakery and a brewery as the star attractions.\nCluster 1 consist of the Neighbourhoods  CN Tower, Bathurst Quay, Island Ariport, harbour. I guess mostly \u201con the run\u201d meals. But I can be completely wrong.\n\nLastly Cluster 7 \u2013 contains a \u201cneighborhood\u201d \u201cBusiness Reply Centre\u201d. It is a post code used for mass-mailing. \n\n\nTo Conclude; I will think twice before opening a coffee shop in the North-South groiping of neighborhoods. The \"wave\" of Torquise-coloured neighborhoods might be a good environment to open a food-establishment as there are a great variety of establishments in the 8 Neighbourhoods from east to west. \n"
        },
        {
            "cell_type": "markdown",
            "metadata": {},
            "source": "### References"
        },
        {
            "cell_type": "markdown",
            "metadata": {},
            "source": "This notebook is part of a course on **Coursera** called *Applied Data Science Capstone*. If you accessed this notebook outside the course, you can take this course online by clicking [here](http://cocl.us/DP0701EN_Coursera_Week3_LAB2)."
        },
        {
            "cell_type": "markdown",
            "metadata": {},
            "source": "<hr>\n\nCopyright &copy; 2018 [Cognitive Class](https://cognitiveclass.ai/?utm_source=bducopyrightlink&utm_medium=dswb&utm_campaign=bdu). This notebook and its source code are released under the terms of the [MIT License](https://bigdatauniversity.com/mit-license/)."
        }
    ],
    "metadata": {
        "kernelspec": {
            "display_name": "Python 3.6",
            "language": "python",
            "name": "python3"
        },
        "language_info": {
            "codemirror_mode": {
                "name": "ipython",
                "version": 3
            },
            "file_extension": ".py",
            "mimetype": "text/x-python",
            "name": "python",
            "nbconvert_exporter": "python",
            "pygments_lexer": "ipython3",
            "version": "3.6.9"
        },
        "widgets": {
            "state": {},
            "version": "1.1.2"
        }
    },
    "nbformat": 4,
    "nbformat_minor": 4
}